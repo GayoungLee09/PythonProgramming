{
 "cells": [
  {
   "cell_type": "code",
   "execution_count": 3,
   "metadata": {},
   "outputs": [
    {
     "name": "stdout",
     "output_type": "stream",
     "text": [
      "가위바위보게임\n",
      "컴퓨터 : 0승 0패,  당신 : 0승 0패\n",
      "(라운드 1)\n",
      "컴퓨터가 결정했습니다.\n"
     ]
    },
    {
     "name": "stdin",
     "output_type": "stream",
     "text": [
      "무엇을 내시겠습니까? (가위, 바위, 보)  가위\n"
     ]
    },
    {
     "name": "stdout",
     "output_type": "stream",
     "text": [
      "컴퓨터는 바위, 당신은 가위, 컴퓨터가 이겼습니다.\n",
      "컴퓨터 : 1승 0패,  당신 : 0승 1패\n",
      "(라운드 2)\n",
      "컴퓨터가 결정했습니다.\n"
     ]
    },
    {
     "name": "stdin",
     "output_type": "stream",
     "text": [
      "무엇을 내시겠습니까? (가위, 바위, 보)  가위\n"
     ]
    },
    {
     "name": "stdout",
     "output_type": "stream",
     "text": [
      "컴퓨터는 바위, 당신은 가위, 컴퓨터가 이겼습니다.\n",
      "컴퓨터 : 2승 0패,  당신 : 0승 2패\n",
      "(라운드 3)\n",
      "컴퓨터가 결정했습니다.\n"
     ]
    },
    {
     "name": "stdin",
     "output_type": "stream",
     "text": [
      "무엇을 내시겠습니까? (가위, 바위, 보)  가위\n"
     ]
    },
    {
     "name": "stdout",
     "output_type": "stream",
     "text": [
      "컴퓨터는 보, 당신은 가위, 당신이 이겼습니다.\n",
      "컴퓨터 : 2승 1패,  당신 : 1승 2패\n",
      "(라운드 4)\n",
      "컴퓨터가 결정했습니다.\n"
     ]
    },
    {
     "name": "stdin",
     "output_type": "stream",
     "text": [
      "무엇을 내시겠습니까? (가위, 바위, 보)  가위\n"
     ]
    },
    {
     "name": "stdout",
     "output_type": "stream",
     "text": [
      "컴퓨터는 바위, 당신은 가위, 컴퓨터가 이겼습니다.\n",
      "컴퓨터 : 3승 1패,  당신 : 1승 3패\n"
     ]
    }
   ],
   "source": [
    "import random\n",
    "\n",
    "print(\"가위바위보게임\")\n",
    "cwin = 0\n",
    "close = 0\n",
    "uwin = 0\n",
    "ulose = 0\n",
    "r = 0\n",
    "\n",
    "choice = {0:\"가위\",1:\"바위\",2:\"보\"}\n",
    "\n",
    "while(True):\n",
    "    r = r+1\n",
    "    print(\"컴퓨터 : \",cwin,\"승 \",close,\"패,  \",\"당신 : \",uwin,\"승 \",ulose,\"패\",sep='')\n",
    "    print(\"(라운드 \",r,\")\",sep='')\n",
    "    print(\"컴퓨터가 결정했습니다.\")\n",
    "    user = input(\"무엇을 내시겠습니까? (가위, 바위, 보) \")\n",
    "    comp_num = random.randint(0,2)\n",
    "    comp_choice = choice[comp_num]\n",
    "    if user==choice[0]:\n",
    "        if comp_num==0:\n",
    "            print(\"컴퓨터는 \",comp_choice,\", 당신은 \",user,\", 무승부 입니다.\",sep='')\n",
    "        elif comp_num==1:\n",
    "            print(\"컴퓨터는 \",comp_choice,\", 당신은 \",user,\", 컴퓨터가 이겼습니다.\",sep='')\n",
    "            cwin=cwin+1\n",
    "            ulose=ulose+1\n",
    "            if cwin>=3:\n",
    "                break\n",
    "        else:\n",
    "            print(\"컴퓨터는 \",comp_choice,\", 당신은 \",user,\", 당신이 이겼습니다.\",sep='')\n",
    "            uwin=uwin+1\n",
    "            close=close+1\n",
    "            if uwin>=3:\n",
    "                break\n",
    "    elif user==choice[1]:\n",
    "        if comp_num==0:\n",
    "            print(\"컴퓨터는 \",comp_choice,\", 당신은 \",user,\", 당신이 이겼습니다.\",sep='')\n",
    "            uwin=uwin+1\n",
    "            close=close+1\n",
    "            if uwin>=3:\n",
    "                break\n",
    "        elif comp_num==1:\n",
    "            print(\"컴퓨터는 \",comp_choice,\", 당신은 \",user,\", 무승부 입니다.\",sep='')\n",
    "        else:\n",
    "            print(\"컴퓨터는 \",comp_choice,\", 당신은 \",user,\", 컴퓨터가 이겼습니다.\",sep='')\n",
    "            cwin=cwin+1\n",
    "            ulose=ulose+1\n",
    "            if cwin>=3:\n",
    "                break\n",
    "    elif user==choice[2]:\n",
    "        if comp_num==0:\n",
    "            print(\"컴퓨터는 \",comp_choice,\", 당신은 \",user,\", 컴퓨터가 이겼습니다.\",sep='')\n",
    "            cwin=cwin+1\n",
    "            ulose=ulose+1\n",
    "            if cwin>=3:\n",
    "                break\n",
    "        elif comp_num==1:\n",
    "            print(\"컴퓨터는 \",comp_choice,\", 당신은 \",user,\", 당신이 이겼습니다.\",sep='')\n",
    "            uwin=uwin+1\n",
    "            close=close+1\n",
    "            if uwin>=3:\n",
    "                break\n",
    "        else:\n",
    "            print(\"컴퓨터는 \",comp_choice,\", 당신은 \",user,\", 무승부 입니다.\",sep='')\n",
    "print(\"컴퓨터 : \",cwin,\"승 \",close,\"패,  \",\"당신 : \",uwin,\"승 \",ulose,\"패\",sep='')"
   ]
  },
  {
   "cell_type": "code",
   "execution_count": 2,
   "metadata": {},
   "outputs": [
    {
     "name": "stdin",
     "output_type": "stream",
     "text": [
      "문장을 입력하세요 :  제 이름은 심청입니다. 이러쿵 저러쿵 저는 화목한 가정\n"
     ]
    },
    {
     "name": "stdout",
     "output_type": "stream",
     "text": [
      "심청\n"
     ]
    }
   ],
   "source": [
    "a = input(\"문장을 입력하세요 : \")\n",
    "lista = a.split()\n",
    "for i in lista:\n",
    "    if '이라고' in i:\n",
    "        print(i.strip('이라고'))\n",
    "    elif '입니다' in i:\n",
    "        print(i.strip('입니다.'))"
   ]
  },
  {
   "cell_type": "code",
   "execution_count": null,
   "metadata": {},
   "outputs": [
    {
     "name": "stdin",
     "output_type": "stream",
     "text": [
      "이름>>  홍길동\n"
     ]
    },
    {
     "name": "stdout",
     "output_type": "stream",
     "text": [
      "010-4444-5555\n"
     ]
    },
    {
     "name": "stdin",
     "output_type": "stream",
     "text": [
      "이름>>  홍길\n"
     ]
    },
    {
     "name": "stdout",
     "output_type": "stream",
     "text": [
      "010-4444-5555\n"
     ]
    },
    {
     "name": "stdin",
     "output_type": "stream",
     "text": [
      "이름>>  홍길서\n"
     ]
    },
    {
     "name": "stdout",
     "output_type": "stream",
     "text": [
      "찾을 수 없습니다.\n"
     ]
    },
    {
     "name": "stdin",
     "output_type": "stream",
     "text": [
      "이름>>  add\n",
      "이름은?  강감찬\n",
      "전화번호는?  010-5555-6666\n"
     ]
    },
    {
     "name": "stdout",
     "output_type": "stream",
     "text": [
      "강감찬 전화번호가 추가되었습니다.\n"
     ]
    },
    {
     "name": "stdin",
     "output_type": "stream",
     "text": [
      "이름>>  강감찬\n"
     ]
    },
    {
     "name": "stdout",
     "output_type": "stream",
     "text": [
      "찾을 수 없습니다.\n"
     ]
    }
   ],
   "source": [
    "phone = {\"홍길동\":'010-4444-5555',\"김중앙\":'010-9191-8181',\"심청\":'010-3232-5454'}\n",
    "while(True):\n",
    "    name = input(\"이름>> \")\n",
    "    if name == 'add':\n",
    "        nameadd=input(\"이름은? \")\n",
    "        phoneadd=input(\"전화번호는? \")\n",
    "        print(nameadd,\"전화번호가 추가되었습니다.\")\n",
    "        phone[nameadd]=phoneadd\n",
    "    else:\n",
    "        for i in phone:\n",
    "            if name in i:\n",
    "                print(phone.get(i))\n",
    "                break\n",
    "            else:\n",
    "                print('찾을 수 없습니다.')\n",
    "                break"
   ]
  },
  {
   "cell_type": "code",
   "execution_count": null,
   "metadata": {},
   "outputs": [],
   "source": [
    "phone = {\"홍길동\":'010-4444-5555',\"김중앙\":'010-9191-8181',\"심청\":'010-3232-5454'}"
   ]
  },
  {
   "cell_type": "code",
   "execution_count": null,
   "metadata": {},
   "outputs": [],
   "source": [
    "name = input(\"이름>> \")\n",
    "if name == 'add':\n",
    "    nameadd=input(\"이름은? \")\n",
    "    phoneadd=input(\"전화번호는? \")\n",
    "    print(nameadd,\"전화번호가 추가되었습니다.\")\n",
    "    phone[nameadd]=phoneadd\n",
    "    print(phone)\n",
    "else:\n",
    "    for i in phone:\n",
    "        if name in i:\n",
    "            print(phone.get(i))\n",
    "            break\n",
    "        else:\n",
    "            print('찾을 수 없습니다.')\n",
    "            break"
   ]
  },
  {
   "cell_type": "code",
   "execution_count": 1,
   "metadata": {},
   "outputs": [
    {
     "name": "stdout",
     "output_type": "stream",
     "text": [
      "1,234,556\n"
     ]
    }
   ],
   "source": [
    "a = input(\"숫자는? \")\n",
    "b=format(a,',')\n",
    "c=format(a,)\n",
    "print(b)\n",
    "unit = ['만','억','조','경','해']\n",
    "inunit = [' ']\n",
    "for i in unit:\n",
    "    inunit.extend(['십','백','천'])\n",
    "    units.append(i)\n"
   ]
  },
  {
   "cell_type": "code",
   "execution_count": 1,
   "metadata": {},
   "outputs": [
    {
     "name": "stdin",
     "output_type": "stream",
     "text": [
      "숫자는?  123456\n"
     ]
    },
    {
     "name": "stdout",
     "output_type": "stream",
     "text": [
      "[1, 2, 3, 4, 5, 6]\n",
      "['1', '2', '3', '4', '5', '6']\n",
      "123,456\n",
      "['일', '이', '삼', '사', '오', '육']\n",
      "['일', '억', '이', '천', '삼', '백', '사', '십', '오', '만', '육', '천']\n"
     ]
    }
   ],
   "source": [
    "a = int(input(\"숫자는? \"))\n",
    "b=format(a,',')\n",
    "c=str(a)\n",
    "listc = list(c.split())\n",
    "listc.reverse()\n",
    "number=[]\n",
    "numbers=[]\n",
    "for j in str(a):\n",
    "    number.append(j)\n",
    "for k in number:\n",
    "    numbers.append(int(k))\n",
    "print(numbers)\n",
    "print(number)\n",
    "print(b)\n",
    "units = [' ','만','억','조','해']\n",
    "units.reverse()\n",
    "unit = ['십','백','천']\n",
    "unit.reverse()\n",
    "num = ['영','일','이','삼','사','오','육','칠','팔','구']\n",
    "result1 = []\n",
    "for i in numbers:\n",
    "    result1.append(num[i])\n",
    "print(result1)\n",
    "result2 = []\n",
    "for p in range(len(result1)):\n",
    "    if p % 4 == 0:\n",
    "        m = int(p / 4)\n",
    "        result2.append(result1[p])\n",
    "        result2.append(units[m+2])\n",
    "    elif p == len(result1):\n",
    "        result2.append([p])\n",
    "    elif p % 4 == 3:\n",
    "        result2.append(result1[p])\n",
    "        result2.append(unit[2])\n",
    "    elif p % 4 == 2:\n",
    "        result2.append(result1[p])\n",
    "        result2.append(unit[1])\n",
    "    elif p % 4 == 1:\n",
    "        result2.append(result1[p])\n",
    "        result2.append(unit[0])\n",
    "    \n",
    "print(result2)        \n",
    "            \n",
    "    "
   ]
  },
  {
   "cell_type": "code",
   "execution_count": 20,
   "metadata": {},
   "outputs": [
    {
     "name": "stdin",
     "output_type": "stream",
     "text": [
      "수식을 입력하세요 :  334+123-32+245-6-32\n"
     ]
    },
    {
     "name": "stdout",
     "output_type": "stream",
     "text": [
      "['334', '123-32', '245-6-32']\n",
      "['123-32', '245-6-32']\n",
      "['334']\n",
      "c: [['123', '32'], ['245', '6', '32']]\n",
      "['123', '32']\n",
      "[123, 32]\n",
      "91\n",
      "[334]\n",
      "334\n",
      "결과는 425\n"
     ]
    }
   ],
   "source": [
    "a = input(\"수식을 입력하세요 : \")\n",
    "b = a.split('+')\n",
    "print(b)\n",
    "bminus = []\n",
    "bnum = []\n",
    "c=[]\n",
    "for i in b:\n",
    "    if '-' in i:\n",
    "        bminus.append(i)\n",
    "    else:\n",
    "        bnum.append(i)\n",
    "print(bminus)\n",
    "print(bnum)\n",
    "for j in bminus:\n",
    "    k = j.split('-')\n",
    "    c.append(k)\n",
    "print(\"c:\",c)\n",
    "if len(c) != 0:\n",
    "    listc = c[0]\n",
    "    print(listc)\n",
    "    numc = []\n",
    "    for n in listc:\n",
    "        numc.append(int(n))\n",
    "    print(numc)\n",
    "    result1 = numc[0]\n",
    "    for p in range(len(numc)):\n",
    "        if p != 0:  \n",
    "            result1 = result1 - numc[p]\n",
    "else:\n",
    "    result1 = 0\n",
    "print(result1)\n",
    "\n",
    "if len(bnum) != 0:\n",
    "    numbnum = []\n",
    "    for m in bnum:\n",
    "        numbnum.append(int(m))\n",
    "    print(numbnum)\n",
    "    result2 = numbnum[0]\n",
    "    for q in range(len(numbnum)):\n",
    "        if q != 0:  \n",
    "            result2 = result2 + numbnum[q]\n",
    "else:\n",
    "    result2 = 0\n",
    "print(result2)\n",
    "result = result1 + result2\n",
    "print(\"결과는\",result)"
   ]
  },
  {
   "cell_type": "code",
   "execution_count": 20,
   "metadata": {},
   "outputs": [
    {
     "name": "stdin",
     "output_type": "stream",
     "text": [
      "수식을 입력하세요 :  334+123-32+245-6-32\n"
     ]
    },
    {
     "name": "stdout",
     "output_type": "stream",
     "text": [
      "결과는 632\n"
     ]
    }
   ],
   "source": [
    "##계산기\n",
    "a = input(\"수식을 입력하세요 : \")\n",
    "b = a.split('+')\n",
    "bminus = []\n",
    "bnum = []\n",
    "c=[]\n",
    "for i in b:\n",
    "    if '-' in i:\n",
    "        bminus.append(i)\n",
    "    else:\n",
    "        bnum.append(i)\n",
    "for j in bminus:\n",
    "    k = j.split('-')\n",
    "    c.append(k)\n",
    "\n",
    "if len(c) != 0:\n",
    "    numc = []\n",
    "    result3 = []\n",
    "    for x in c:\n",
    "        numc.append(list(map(int, x)))\n",
    "    for y in numc:\n",
    "        result1 = y[0]\n",
    "        for z in range(len(y)):\n",
    "            if z != 0:\n",
    "                result1 = result1 - y[z]\n",
    "        result3.append(result1)\n",
    "else:\n",
    "    result3 = 0\n",
    "\n",
    "if len(bnum) != 0:\n",
    "    numbnum = []\n",
    "    for m in bnum:\n",
    "        numbnum.append(int(m))\n",
    "    result2 = numbnum[0]\n",
    "    for q in range(len(numbnum)):\n",
    "        if q != 0:  \n",
    "            result2 = result2 + numbnum[q]\n",
    "else:\n",
    "    result2 = 0\n",
    "if result3 != 0:\n",
    "    result3.append(result2)\n",
    "    result = 0\n",
    "    for s in result3:\n",
    "        result += s\n",
    "else:\n",
    "    result = result2\n",
    "    \n",
    "print(\"결과는\",result)"
   ]
  },
  {
   "cell_type": "code",
   "execution_count": 2,
   "metadata": {},
   "outputs": [
    {
     "name": "stdin",
     "output_type": "stream",
     "text": [
      "숫자는?  1234567\n"
     ]
    },
    {
     "name": "stdout",
     "output_type": "stream",
     "text": [
      "1,234,567\n",
      "일백이십삼만사천오백육십칠"
     ]
    }
   ],
   "source": [
    "a = int(input(\"숫자는? \"))\n",
    "b=format(a,',')\n",
    "print(b)\n",
    "c=str(a)\n",
    "listc = list(c.split())\n",
    "listc.reverse()\n",
    "number=[]\n",
    "numbers=[]\n",
    "for j in str(a):\n",
    "    number.append(j)\n",
    "for k in number:\n",
    "    numbers.append(int(k))\n",
    "unit = ['','십','백','천']\n",
    "num = ['','일','이','삼','사','오','육','칠','팔','구']\n",
    "result1 = []\n",
    "for i in numbers:\n",
    "    result1.append(num[i])\n",
    "\n",
    "num1 = result1[-4:]    #빈칸\n",
    "num2 = result1[-8:-4] #만\n",
    "num3 = result1[-12:-8] #억\n",
    "num4 = result1[-16:-12] #조\n",
    "num5 = result1[-20:-16] #해\n",
    "\n",
    "while '' in num1:    \n",
    "    num1.remove('')\n",
    "while '' in num2:    \n",
    "    num2.remove('')\n",
    "while '' in num3:    \n",
    "    num3.remove('')\n",
    "while '' in num4:    \n",
    "    num4.remove('')\n",
    "while '' in num5:    \n",
    "    num5.remove('')\n",
    "\n",
    "re1 = []\n",
    "re2 = []\n",
    "re3 = []\n",
    "re4 = []\n",
    "re5 = []\n",
    "\n",
    "if len(num1)!=0 :\n",
    "    num1.reverse()\n",
    "    for p in range(len(num1)):\n",
    "        re1.append(unit[p])\n",
    "        re1.append(num1[p])\n",
    "    re1.reverse()\n",
    "if len(num2)!=0 :\n",
    "    num2.reverse()\n",
    "    for p in range(len(num2)):\n",
    "        re2.append(unit[p])\n",
    "        re2.append(num2[p])\n",
    "    re2.reverse()\n",
    "    if 0 in num1:\n",
    "        num1.remove(0)\n",
    "if len(num3)!=0 :\n",
    "    num3.reverse()\n",
    "    for p in range(len(num3)):\n",
    "        re3.append(unit[p])\n",
    "        re3.append(num3[p])\n",
    "    re3.reverse()\n",
    "    \n",
    "if len(num4)!=0 :\n",
    "    num4.reverse()\n",
    "    for p in range(len(num4)):\n",
    "        re4.append(unit[p])\n",
    "        re4.append(num4[p])\n",
    "    re4.reverse()\n",
    "    \n",
    "if len(num5)!=0 :\n",
    "    num5.reverse()\n",
    "    for p in range(len(num5)):\n",
    "        re5.append(unit[p])\n",
    "        re5.append(num5[p])\n",
    "    re5.reverse()\n",
    "\n",
    "result2 = []\n",
    "if len(re2)!=0 : \n",
    "    re2.append('만')\n",
    "if len(re3)!=0 :\n",
    "    re3.append('억')\n",
    "if len(re4)!=0 :\n",
    "    re4.append('조')\n",
    "if len(re5)!=0 :\n",
    "    re5.append('해')\n",
    "\n",
    "if len(re5)!=0:\n",
    "    result2.append(re5)\n",
    "if len(re4)!=0:\n",
    "    result2.append(re4)\n",
    "if len(re3)!=0:\n",
    "    result2.append(re3)\n",
    "if len(re2)!=0:\n",
    "    result2.append(re2)\n",
    "if len(re1)!=0:\n",
    "    result2.append(re1)\n",
    "\n",
    "for x in result2:\n",
    "    for y in x:\n",
    "        print(y,end='')"
   ]
  },
  {
   "cell_type": "code",
   "execution_count": null,
   "metadata": {},
   "outputs": [],
   "source": [
    "for x in c:\n",
    "        numc.append(list(map(int, x)))\n",
    "    for y in numc:\n",
    "        result1 = y[0]\n",
    "        for z in range(len(y)):\n",
    "            if z != 0:\n",
    "                result1 = result1 - y[z]\n",
    "        result3.append(result1)"
   ]
  }
 ],
 "metadata": {
  "kernelspec": {
   "display_name": "Python 3",
   "language": "python",
   "name": "python3"
  },
  "language_info": {
   "codemirror_mode": {
    "name": "ipython",
    "version": 3
   },
   "file_extension": ".py",
   "mimetype": "text/x-python",
   "name": "python",
   "nbconvert_exporter": "python",
   "pygments_lexer": "ipython3",
   "version": "3.7.6"
  }
 },
 "nbformat": 4,
 "nbformat_minor": 4
}
