{
 "cells": [
  {
   "cell_type": "code",
   "execution_count": 1,
   "metadata": {},
   "outputs": [],
   "source": [
    "a = ['모현읍','문형리','분당동','서현동','규동']"
   ]
  },
  {
   "cell_type": "code",
   "execution_count": 4,
   "metadata": {},
   "outputs": [
    {
     "name": "stdin",
     "output_type": "stream",
     "text": [
      "동을 입력하세요.  가츠동\n"
     ]
    },
    {
     "name": "stdout",
     "output_type": "stream",
     "text": [
      "6번째 동입니다.\n"
     ]
    }
   ],
   "source": [
    "i = input(\"동을 입력하세요. \")\n",
    "\n",
    "if i in a:\n",
    "    print(a.index(i)+1,\"번째 동입니다.\",sep='')\n",
    "elif i not in a:\n",
    "    print(\"새로운 동명입니다. \",len(a)+1,\"번째 동으로 등록합니다.\",sep='')\n",
    "    a.append(i)"
   ]
  },
  {
   "cell_type": "code",
   "execution_count": 8,
   "metadata": {},
   "outputs": [
    {
     "name": "stdin",
     "output_type": "stream",
     "text": [
      "안녕하세요 다음의 메뉴 중 원하는 메뉴를 선택하세요.\n",
      "(noodle, ham, egg, spaghetti) bread\n"
     ]
    },
    {
     "name": "stdout",
     "output_type": "stream",
     "text": [
      "그런 메뉴는 없습니다.\n"
     ]
    }
   ],
   "source": [
    "menu = {'noddle':'500원','ham':'200원','egg':'100원','spaghetti':'900원'}\n",
    "i = input(\"안녕하세요 다음의 메뉴 중 원하는 메뉴를 선택하세요.\\n(noodle, ham, egg, spaghetti)\")\n",
    "\n",
    "if i in menu:\n",
    "    print(menu[i],\"입니다.\",sep='')\n",
    "else:\n",
    "    print(\"그런 메뉴는 없습니다.\")"
   ]
  },
  {
   "cell_type": "code",
   "execution_count": 7,
   "metadata": {},
   "outputs": [
    {
     "name": "stdout",
     "output_type": "stream",
     "text": [
      "데이터를 입력하세요(입력을 마치려면 0을 입력하세요)\n"
     ]
    },
    {
     "name": "stdin",
     "output_type": "stream",
     "text": [
      " 90\n",
      " 55\n",
      " 86\n",
      " 79\n",
      " 91\n",
      " 0\n"
     ]
    },
    {
     "name": "stdout",
     "output_type": "stream",
     "text": [
      "91 79 86 55 90 (5개)\n"
     ]
    }
   ],
   "source": [
    "print(\"데이터를 입력하세요(입력을 마치려면 0을 입력하세요)\")\n",
    "a=[]\n",
    "while(True):\n",
    "    i = int(input())\n",
    "    if i == 0:\n",
    "        a.reverse()\n",
    "        for j in a:\n",
    "            print(j,end=' ')\n",
    "        print(\"(\",len(a),\"개)\",sep='')\n",
    "        break\n",
    "    else:\n",
    "        a.append(i)"
   ]
  },
  {
   "cell_type": "code",
   "execution_count": null,
   "metadata": {},
   "outputs": [],
   "source": [
    "n = int(input(\"N = ? \"))\n",
    "count = 0\n",
    "for i in range(2,n+1):\n",
    "    num = 0\n",
    "    for j in range(2,i+1):\n",
    "        if i%j == 0:\n",
    "            num=num+1\n",
    "    if num == 2:\n",
    "        count = count+1\n",
    "print(count,\"개\",sep='')\n",
    "print(f\"처리시간：{elapsed_time}\")"
   ]
  },
  {
   "cell_type": "code",
   "execution_count": 4,
   "metadata": {},
   "outputs": [
    {
     "name": "stdout",
     "output_type": "stream",
     "text": [
      "9592개\n",
      "처리시간：0.09675097465515137\n"
     ]
    }
   ],
   "source": [
    "import time\n",
    "\n",
    "t1 = time.time()\n",
    "\n",
    "n=100000\n",
    "a = [False,False] + [True]*(n-1)\n",
    "primes=[]\n",
    "\n",
    "for i in range(2,n+1):\n",
    "  if a[i]:\n",
    "    primes.append(i)\n",
    "    for j in range(2*i, n+1, i):\n",
    "        a[j] = False\n",
    "\n",
    "print(len(primes),\"개\",sep='')\n",
    "\n",
    "t2 = time.time()\n",
    "\n",
    "elapsed_time = t2-t1\n",
    "\n",
    "print(f\"처리시간：{elapsed_time}\")"
   ]
  },
  {
   "cell_type": "code",
   "execution_count": 11,
   "metadata": {},
   "outputs": [
    {
     "name": "stdin",
     "output_type": "stream",
     "text": [
      "원금을 입력하세요(원).  1000\n",
      "금리를 입력하세요(%).  5\n"
     ]
    },
    {
     "name": "stdout",
     "output_type": "stream",
     "text": [
      "원금 1000원  금리 5% 입니다.\n",
      "기간\t합계\n",
      "1년\t1050.0\n",
      "2년\t1102.5\n",
      "3년\t1157.6\n",
      "4년\t1215.5\n",
      "5년\t1276.3\n",
      "6년\t1340.1\n",
      "7년\t1407.1\n",
      "8년\t1477.5\n",
      "9년\t1551.3\n",
      "10년\t1628.9\n",
      "11년\t1710.3\n",
      "12년\t1795.9\n",
      "13년\t1885.6\n",
      "14년\t1979.9\n",
      "15년\t2078.9\n",
      "16년\t2182.9\n",
      "17년\t2292.0\n",
      "18년\t2406.6\n",
      "19년\t2527.0\n",
      "20년\t2653.3\n"
     ]
    }
   ],
   "source": [
    "a = int(input(\"원금을 입력하세요(원). \"))\n",
    "i = int(input(\"금리를 입력하세요(%). \"))\n",
    "print(\"원금 \",a,\"원\",\"  금리 \",i,\"% 입니다.\",sep='')\n",
    "print(\"기간\\t합계\")\n",
    "for j in range(1,21):\n",
    "    print(j,\"년\\t\",round(a*((1+(i/100))**j),1),sep='')"
   ]
  },
  {
   "cell_type": "code",
   "execution_count": 2,
   "metadata": {},
   "outputs": [
    {
     "name": "stdout",
     "output_type": "stream",
     "text": [
      "가위바위보게임\n",
      "컴퓨터 : 0승 0패,  당신 : 0승 0패\n",
      "(라운드 1)\n",
      "컴퓨터가 결정했습니다.\n"
     ]
    },
    {
     "name": "stdin",
     "output_type": "stream",
     "text": [
      "무엇을 내시겠습니까? (가위, 바위, 보)  보\n"
     ]
    },
    {
     "name": "stdout",
     "output_type": "stream",
     "text": [
      "컴퓨터는 보, 당신은 보, 무승부 입니다.\n",
      "컴퓨터 : 0승 0패,  당신 : 0승 0패\n",
      "(라운드 2)\n",
      "컴퓨터가 결정했습니다.\n"
     ]
    },
    {
     "name": "stdin",
     "output_type": "stream",
     "text": [
      "무엇을 내시겠습니까? (가위, 바위, 보)  보\n"
     ]
    },
    {
     "name": "stdout",
     "output_type": "stream",
     "text": [
      "컴퓨터는 바위, 당신은 보, 당신이 이겼습니다.\n",
      "컴퓨터 : 0승 1패,  당신 : 1승 0패\n",
      "(라운드 3)\n",
      "컴퓨터가 결정했습니다.\n"
     ]
    },
    {
     "name": "stdin",
     "output_type": "stream",
     "text": [
      "무엇을 내시겠습니까? (가위, 바위, 보)  보\n"
     ]
    },
    {
     "name": "stdout",
     "output_type": "stream",
     "text": [
      "컴퓨터는 보, 당신은 보, 무승부 입니다.\n",
      "컴퓨터 : 0승 1패,  당신 : 1승 0패\n",
      "(라운드 4)\n",
      "컴퓨터가 결정했습니다.\n"
     ]
    },
    {
     "name": "stdin",
     "output_type": "stream",
     "text": [
      "무엇을 내시겠습니까? (가위, 바위, 보)  보\n"
     ]
    },
    {
     "name": "stdout",
     "output_type": "stream",
     "text": [
      "컴퓨터는 보, 당신은 보, 무승부 입니다.\n",
      "컴퓨터 : 0승 1패,  당신 : 1승 0패\n",
      "(라운드 5)\n",
      "컴퓨터가 결정했습니다.\n"
     ]
    },
    {
     "name": "stdin",
     "output_type": "stream",
     "text": [
      "무엇을 내시겠습니까? (가위, 바위, 보)  보\n"
     ]
    },
    {
     "name": "stdout",
     "output_type": "stream",
     "text": [
      "컴퓨터는 보, 당신은 보, 무승부 입니다.\n",
      "컴퓨터 : 0승 1패,  당신 : 1승 0패\n",
      "(라운드 6)\n",
      "컴퓨터가 결정했습니다.\n"
     ]
    },
    {
     "name": "stdin",
     "output_type": "stream",
     "text": [
      "무엇을 내시겠습니까? (가위, 바위, 보)  보\n"
     ]
    },
    {
     "name": "stdout",
     "output_type": "stream",
     "text": [
      "컴퓨터는 가위, 당신은 보, 컴퓨터가 이겼습니다.\n",
      "컴퓨터 : 1승 1패,  당신 : 1승 1패\n",
      "(라운드 7)\n",
      "컴퓨터가 결정했습니다.\n"
     ]
    },
    {
     "name": "stdin",
     "output_type": "stream",
     "text": [
      "무엇을 내시겠습니까? (가위, 바위, 보)  보\n"
     ]
    },
    {
     "name": "stdout",
     "output_type": "stream",
     "text": [
      "컴퓨터는 보, 당신은 보, 무승부 입니다.\n",
      "컴퓨터 : 1승 1패,  당신 : 1승 1패\n",
      "(라운드 8)\n",
      "컴퓨터가 결정했습니다.\n"
     ]
    },
    {
     "name": "stdin",
     "output_type": "stream",
     "text": [
      "무엇을 내시겠습니까? (가위, 바위, 보)  보\n"
     ]
    },
    {
     "name": "stdout",
     "output_type": "stream",
     "text": [
      "컴퓨터는 가위, 당신은 보, 컴퓨터가 이겼습니다.\n",
      "컴퓨터 : 2승 1패,  당신 : 1승 2패\n",
      "(라운드 9)\n",
      "컴퓨터가 결정했습니다.\n"
     ]
    },
    {
     "name": "stdin",
     "output_type": "stream",
     "text": [
      "무엇을 내시겠습니까? (가위, 바위, 보)  보\n"
     ]
    },
    {
     "name": "stdout",
     "output_type": "stream",
     "text": [
      "컴퓨터는 가위, 당신은 보, 컴퓨터가 이겼습니다.\n",
      "컴퓨터 : 3승 1패,  당신 : 1승 3패\n"
     ]
    }
   ],
   "source": [
    "import random\n",
    "\n",
    "print(\"가위바위보게임\")\n",
    "cwin = 0\n",
    "close = 0\n",
    "uwin = 0\n",
    "ulose = 0\n",
    "r = 0\n",
    "choice = [\"가위\",\"바위\",\"보\"]\n",
    "\n",
    "while(True):\n",
    "    r = r+1\n",
    "    print(\"컴퓨터 : \",cwin,\"승 \",close,\"패,  \",\"당신 : \",uwin,\"승 \",ulose,\"패\",sep='')\n",
    "    print(\"(라운드 \",r,\")\",sep='')\n",
    "    print(\"컴퓨터가 결정했습니다.\")\n",
    "    user = input(\"무엇을 내시겠습니까? (가위, 바위, 보) \")\n",
    "    comp_num = random.randint(0,2)\n",
    "    comp_choice = choice[comp_num]\n",
    "    if user=='가위':\n",
    "        if comp_choice==\"가위\":\n",
    "            print(\"컴퓨터는 \",comp_choice,\", 당신은 \",user,\", 무승부 입니다.\",sep='')\n",
    "        elif comp_choice==\"바위\":\n",
    "            print(\"컴퓨터는 \",comp_choice,\", 당신은 \",user,\", 컴퓨터가 이겼습니다.\",sep='')\n",
    "            cwin=cwin+1\n",
    "            ulose=ulose+1\n",
    "            if cwin>=3:\n",
    "                break\n",
    "        else:\n",
    "            print(\"컴퓨터는 \",comp_choice,\", 당신은 \",user,\", 당신이 이겼습니다.\",sep='')\n",
    "            uwin=uwin+1\n",
    "            close=close+1\n",
    "            if uwin>=3:\n",
    "                break\n",
    "    elif user=='바위':\n",
    "        if comp_choice==\"가위\":\n",
    "            print(\"컴퓨터는 \",comp_choice,\", 당신은 \",user,\", 당신이 이겼습니다.\",sep='')\n",
    "            uwin=uwin+1\n",
    "            close=close+1\n",
    "            if uwin>=3:\n",
    "                break\n",
    "        elif comp_choice==\"바위\":\n",
    "            print(\"컴퓨터는 \",comp_choice,\", 당신은 \",user,\", 무승부 입니다.\",sep='')\n",
    "        else:\n",
    "            print(\"컴퓨터는 \",comp_choice,\", 당신은 \",user,\", 컴퓨터가 이겼습니다.\",sep='')\n",
    "            cwin=cwin+1\n",
    "            ulose=ulose+1\n",
    "            if cwin>=3:\n",
    "                break\n",
    "    elif user=='보':\n",
    "        if comp_choice==\"가위\":\n",
    "            print(\"컴퓨터는 \",comp_choice,\", 당신은 \",user,\", 컴퓨터가 이겼습니다.\",sep='')\n",
    "            cwin=cwin+1\n",
    "            ulose=ulose+1\n",
    "            if cwin>=3:\n",
    "                break\n",
    "        elif comp_choice==\"바위\":\n",
    "            print(\"컴퓨터는 \",comp_choice,\", 당신은 \",user,\", 당신이 이겼습니다.\",sep='')\n",
    "            uwin=uwin+1\n",
    "            close=close+1\n",
    "            if uwin>=3:\n",
    "                break\n",
    "        else:\n",
    "            print(\"컴퓨터는 \",comp_choice,\", 당신은 \",user,\", 무승부 입니다.\",sep='')\n",
    "print(\"컴퓨터 : \",cwin,\"승 \",close,\"패,  \",\"당신 : \",uwin,\"승 \",ulose,\"패\",sep='')"
   ]
  },
  {
   "cell_type": "code",
   "execution_count": 29,
   "metadata": {},
   "outputs": [
    {
     "name": "stdout",
     "output_type": "stream",
     "text": [
      "          *\n",
      "            *\n",
      "              *\n",
      "                 *\n",
      "                  *\n",
      "                   *\n",
      "                    *\n",
      "                   *\n",
      "                  *\n",
      "                 *\n",
      "              *\n",
      "            *\n",
      "          *\n",
      "        *\n",
      "     *\n",
      "   *\n",
      "  *\n",
      " *\n",
      "*\n",
      " *\n",
      "  *\n",
      "   *\n",
      "      *\n",
      "        *\n",
      "          *\n"
     ]
    }
   ],
   "source": [
    "from math import *\n",
    "print(10*\" \",\"*\",sep='')\n",
    "for ang in range(15,361,15):\n",
    "    b = int(sin(pi/(180/ang)) * 10)\n",
    "    #print(b)\n",
    "    if b <=0:\n",
    "        print((10-abs(b))*\" \",\"*\",sep='')\n",
    "    else:\n",
    "        print(10*\" \",b*\" \",\"*\",sep='')"
   ]
  },
  {
   "cell_type": "code",
   "execution_count": null,
   "metadata": {},
   "outputs": [],
   "source": []
  }
 ],
 "metadata": {
  "kernelspec": {
   "display_name": "Python 3",
   "language": "python",
   "name": "python3"
  },
  "language_info": {
   "codemirror_mode": {
    "name": "ipython",
    "version": 3
   },
   "file_extension": ".py",
   "mimetype": "text/x-python",
   "name": "python",
   "nbconvert_exporter": "python",
   "pygments_lexer": "ipython3",
   "version": "3.7.6"
  }
 },
 "nbformat": 4,
 "nbformat_minor": 4
}
