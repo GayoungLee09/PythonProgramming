{
 "cells": [
  {
   "cell_type": "code",
   "execution_count": 3,
   "metadata": {},
   "outputs": [
    {
     "name": "stdin",
     "output_type": "stream",
     "text": [
      " 23 0 2 10 0 7 0 0 28 14 0 1 3 0 5 3 0\n"
     ]
    },
    {
     "name": "stdout",
     "output_type": "stream",
     "text": [
      "   \t서울\t부산\t대구\t인천\t광주\t대전\t울산\t세종\t경기\t강원\t충북\t충남\t전북\t전남\t경북\t경남\t제주\n",
      "어제    0\t0\t0\t0\t0\t0\t0\t0\t0\t0\t0\t0\t0\t0\t0\t0\t0\n",
      "오늘    23\t0\t2\t10\t0\t7\t0\t0\t(28)\t14\t0\t1\t3\t0\t5\t3\t0\n",
      "변동    23\t0\t2\t10\t0\t7\t0\t0\t28\t14\t0\t1\t3\t0\t5\t3\t0\n",
      "누적    23\t0\t2\t10\t0\t7\t0\t0\t(28)\t14\t0\t1\t3\t0\t5\t3\t0\n"
     ]
    },
    {
     "name": "stdin",
     "output_type": "stream",
     "text": [
      " 24 0 0 2 0 5 0 0 27 6 1 0 0 2 0 5 0\n"
     ]
    },
    {
     "name": "stdout",
     "output_type": "stream",
     "text": [
      "   \t서울\t부산\t대구\t인천\t광주\t대전\t울산\t세종\t경기\t강원\t충북\t충남\t전북\t전남\t경북\t경남\t제주\n",
      "어제    23\t0\t2\t10\t0\t7\t0\t0\t28\t14\t0\t1\t3\t0\t5\t3\t0\n",
      "오늘    24\t0\t0\t2\t0\t5\t0\t0\t(27)\t6\t1\t0\t0\t2\t0\t5\t0\n",
      "변동    1\t0\t-2\t-8\t0\t-2\t0\t0\t-1\t-8\t1\t-1\t-3\t2\t-5\t2\t0\n",
      "누적    47\t0\t2\t12\t0\t12\t0\t0\t(55)\t20\t1\t1\t3\t2\t5\t8\t0\n"
     ]
    },
    {
     "name": "stdin",
     "output_type": "stream",
     "text": [
      " 22 0 0 11\n"
     ]
    },
    {
     "name": "stdout",
     "output_type": "stream",
     "text": [
      "개수(총 17개)가 부족한 입력 : 4개의 데이터만 입력되었습니다.\n"
     ]
    }
   ],
   "source": [
    "today=[0,0,0,0,0,0,0,0,0,0,0,0,0,0,0,0,0]\n",
    "todaynum=[0,0,0,0,0,0,0,0,0,0,0,0,0,0,0,0,0]\n",
    "while(True):\n",
    "\t\n",
    "\tn = input()\n",
    "\tif n == '-1':\n",
    "\t\tbreak\n",
    "\tnum=n.split()\n",
    "\t\n",
    "\tif len(num)!= 17:\n",
    "\t\tprint(\"개수(총 17개)가 부족한 입력 : \",len(num),\"개의 데이터만 입력되었습니다.\",sep='')\n",
    "\t\tbreak\n",
    "\t\t\n",
    "\tyesterday=todaynum\n",
    "\tfirst=['   ','서울','부산','대구','인천','광주','대전','울산','세종','경기','강원','충북','충남','전북','전남','경북','경남','제주']\n",
    "\tprint('\\t'.join(first))\n",
    "\tprint(\"어제\",end='    ')\n",
    "\tprint('\\t'.join(map(str, yesterday)))\n",
    "\t\n",
    "\ttoday=[]\n",
    "\tdifinfo=[]\n",
    "\tsuminfo=[]\n",
    "\ttodaynum=[]\n",
    "\tfor m in range(0,17):\n",
    "\t\ttodaynum.append(int(num[m]))\n",
    "\t\t\n",
    "\tmaxtoday = 0\n",
    "\tfor i in range(0,17):\n",
    "\t\tif maxtoday < int(num[i]):\n",
    "\t\t\tmaxtoday = int(num[i])\n",
    "\t\t\t\n",
    "\tfor ii in range(0,17):   \n",
    "\t\tif maxtoday == int(num[ii]):\n",
    "\t\t\ttoday.append('(%d)'%int(num[ii]))\n",
    "\t\telse:\n",
    "\t\t\ttoday.append(num[ii])\n",
    "\t\t\t\n",
    "\tfor j in range(0,17):\n",
    "\t\tdifinfo.append(todaynum[j]-yesterday[j])\n",
    "\t\t\n",
    "\tfor k in range(0,17):\n",
    "\t\tsuminfo.append(todaynum[k]+yesterday[k])\n",
    "\t\tfinalsuminfo=[]\n",
    "\t\tmaxsuminfo=0\n",
    "\t\t\n",
    "\tfor p in suminfo:\n",
    "\t\tif maxsuminfo < p:\n",
    "\t\t\tmaxsuminfo = p\n",
    "\tfor l in suminfo:\n",
    "\t\tif l == maxsuminfo:\n",
    "\t\t\tfinalsuminfo.append('(%d)'%l)\n",
    "\t\telse:\n",
    "\t\t\tfinalsuminfo.append('%d'%l)\n",
    "\t\t\t\n",
    "\tprint(\"오늘\",end='    ')\n",
    "\tprint('\\t'.join(today))\n",
    "\tprint(\"변동\",end='    ')\n",
    "\tprint('\\t'.join(map(str, difinfo)))\n",
    "\tprint(\"누적\",end='    ')\n",
    "\tprint('\\t'.join(finalsuminfo))"
   ]
  },
  {
   "cell_type": "code",
   "execution_count": null,
   "metadata": {},
   "outputs": [],
   "source": [
    "# 23 0 2 10 0 7 0 0 28 14 0 1 3 0 5 3 0\n",
    "# 24 0 0 2 0 5 0 0 27 6 1 0 0 2 0 5 0"
   ]
  },
  {
   "cell_type": "code",
   "execution_count": 14,
   "metadata": {},
   "outputs": [
    {
     "name": "stdin",
     "output_type": "stream",
     "text": [
      "원하는 숫자를 선택하세요. (1~100)  3\n"
     ]
    },
    {
     "name": "stdout",
     "output_type": "stream",
     "text": [
      "1회 : [14, 9, 13, 29, 7, 39]\n",
      "2회 : [1, 44, 22, 36, 33, 5]\n",
      "3회 : [34, 30, 22, 17, 10, 19]\n",
      "\n",
      "이번주의 로또 번호입니다 : 34 30 22 17 10 19\n",
      "이 번호가 맞으면 교수님과 50:50\n"
     ]
    }
   ],
   "source": [
    "import random\n",
    "def lotto_generator(num):\n",
    "    lotto=[]\n",
    "    for i in range(0,num):\n",
    "        lotto.append(random.sample(range(1,46),6))\n",
    "    for j in range(len(lotto)):\n",
    "        print(j+1,\"회 : \",lotto[j],sep='')\n",
    "    print(\"\\n이번주의 로또 번호입니다 : \",' '.join(map(str,lotto[-1])),sep='')\n",
    "    print(\"이 번호가 맞으면 교수님과 50:50\")\n",
    "        \n",
    "num = int(input(\"원하는 숫자를 선택하세요. (1~100) \"))\n",
    "lotto_generator(num)"
   ]
  },
  {
   "cell_type": "code",
   "execution_count": 21,
   "metadata": {},
   "outputs": [
    {
     "name": "stdin",
     "output_type": "stream",
     "text": [
      "몇 번째 로또 번호를 고를까요?  3\n"
     ]
    },
    {
     "name": "stdout",
     "output_type": "stream",
     "text": [
      "1회 :[28, 14, 20, 35, 3, 22]\n",
      "2회 :[32, 6, 39, 19, 14, 9]\n",
      "3회 :[33, 42, 16, 40, 11, 19]\n",
      "\n",
      "이번주의 로또 번호 입니다 : 33 42 16 40 11 19 "
     ]
    }
   ],
   "source": [
    "import random\n",
    "def lotto_generator():\n",
    "    return random.sample(range(1,46),6)\n",
    "\n",
    "a = int(input(\"몇 번째 로또 번호를 고를까요? \"))\n",
    "for i in range(a):\n",
    "    selectednum=lotto_generator()\n",
    "    print(i+1,\"회 :\",selectednum,sep='')\n",
    "print(\"\\n이번주의 로또 번호 입니다 : \",end='')\n",
    "\n",
    "for l in selectednum:\n",
    "    print(l,end=' ')"
   ]
  },
  {
   "cell_type": "code",
   "execution_count": 23,
   "metadata": {},
   "outputs": [
    {
     "name": "stdout",
     "output_type": "stream",
     "text": [
      "9592개\n",
      "처리시간：0.14551782608032227\n"
     ]
    }
   ],
   "source": [
    "import time\n",
    "\n",
    "t1 = time.time()\n",
    "\n",
    "n=100000\n",
    "a = [False,False] + [True]*(n-1)\n",
    "primes=[]\n",
    "\n",
    "for i in range(2,n+1):\n",
    "  if a[i]:\n",
    "    primes.append(i)\n",
    "    for j in range(2*i, n+1, i):\n",
    "        a[j] = False\n",
    "\n",
    "print(len(primes),\"개\",sep='')\n",
    "\n",
    "t2 = time.time()\n",
    "\n",
    "elapsed_time = t2-t1\n",
    "\n",
    "print(f\"처리시간：{elapsed_time}\")"
   ]
  },
  {
   "cell_type": "code",
   "execution_count": null,
   "metadata": {},
   "outputs": [
    {
     "name": "stdout",
     "output_type": "stream",
     "text": [
      "구구단을 외자. 문제 출력 후 3초 이내에 입력하세요.\n"
     ]
    },
    {
     "name": "stdin",
     "output_type": "stream",
     "text": [
      "1) 5 * 5 =  25\n"
     ]
    },
    {
     "name": "stdout",
     "output_type": "stream",
     "text": [
      "(맞았습니다.) 1.513초 소요 : Score = 1487\n"
     ]
    },
    {
     "name": "stdin",
     "output_type": "stream",
     "text": [
      "2) 5 * 3 =  15\n"
     ]
    },
    {
     "name": "stdout",
     "output_type": "stream",
     "text": [
      "(맞았습니다.) 2.011초 소요 : Score = 2476\n"
     ]
    },
    {
     "name": "stdin",
     "output_type": "stream",
     "text": [
      "3) 8 * 8 =  64\n"
     ]
    },
    {
     "name": "stdout",
     "output_type": "stream",
     "text": [
      "(맞았습니다.) 1.747초 소요 : Score = 3728\n"
     ]
    },
    {
     "name": "stdin",
     "output_type": "stream",
     "text": [
      "4) 4 * 2 =  8\n"
     ]
    },
    {
     "name": "stdout",
     "output_type": "stream",
     "text": [
      "(맞았습니다.) 1.449초 소요 : Score = 5279\n"
     ]
    },
    {
     "name": "stdin",
     "output_type": "stream",
     "text": [
      "5) 2 * 8 =  16\n"
     ]
    },
    {
     "name": "stdout",
     "output_type": "stream",
     "text": [
      "(맞았습니다.) 1.555초 소요 : Score = 6725\n"
     ]
    },
    {
     "name": "stdin",
     "output_type": "stream",
     "text": [
      "6) 8 * 2 =  16\n"
     ]
    },
    {
     "name": "stdout",
     "output_type": "stream",
     "text": [
      "(맞았습니다.) 1.545초 소요 : Score = 8180\n"
     ]
    },
    {
     "name": "stdin",
     "output_type": "stream",
     "text": [
      "7) 3 * 1 =  3\n"
     ]
    },
    {
     "name": "stdout",
     "output_type": "stream",
     "text": [
      "(맞았습니다.) 1.550초 소요 : Score = 9630\n"
     ]
    },
    {
     "name": "stdin",
     "output_type": "stream",
     "text": [
      "8) 9 * 7 =  63\n"
     ]
    },
    {
     "name": "stdout",
     "output_type": "stream",
     "text": [
      "(맞았습니다.) 1.771초 소요 : Score = 10859\n"
     ]
    },
    {
     "name": "stdin",
     "output_type": "stream",
     "text": [
      "9) 5 * 1 =  5\n"
     ]
    },
    {
     "name": "stdout",
     "output_type": "stream",
     "text": [
      "(맞았습니다.) 1.606초 소요 : Score = 12253\n"
     ]
    },
    {
     "name": "stdin",
     "output_type": "stream",
     "text": [
      "10) 4 * 3 =  12\n"
     ]
    },
    {
     "name": "stdout",
     "output_type": "stream",
     "text": [
      "(맞았습니다.) 1.243초 소요 : Score = 14010\n",
      "1 라운드 (최고 기록 갱신)\n",
      "1 라운드 최종점수 : 14010\n"
     ]
    },
    {
     "name": "stdin",
     "output_type": "stream",
     "text": [
      "1) 4 * 4 =  16\n"
     ]
    },
    {
     "name": "stdout",
     "output_type": "stream",
     "text": [
      "(맞았습니다.) 1.891초 소요 : Score = 1109\n"
     ]
    },
    {
     "name": "stdin",
     "output_type": "stream",
     "text": [
      "2) 4 * 7 =  28\n"
     ]
    },
    {
     "name": "stdout",
     "output_type": "stream",
     "text": [
      "(맞았습니다.) 1.635초 소요 : Score = 2474\n"
     ]
    },
    {
     "name": "stdin",
     "output_type": "stream",
     "text": [
      "3) 1 * 4 =  4\n"
     ]
    },
    {
     "name": "stdout",
     "output_type": "stream",
     "text": [
      "(맞았습니다.) 1.017초 소요 : Score = 4457\n"
     ]
    },
    {
     "name": "stdin",
     "output_type": "stream",
     "text": [
      "4) 8 * 1 =  8\n"
     ]
    },
    {
     "name": "stdout",
     "output_type": "stream",
     "text": [
      "(맞았습니다.) 1.358초 소요 : Score = 6099\n"
     ]
    },
    {
     "name": "stdin",
     "output_type": "stream",
     "text": [
      "5) 6 * 7 =  42\n"
     ]
    },
    {
     "name": "stdout",
     "output_type": "stream",
     "text": [
      "(맞았습니다.) 2.441초 소요 : Score = 6658\n"
     ]
    },
    {
     "name": "stdin",
     "output_type": "stream",
     "text": [
      "6) 6 * 5 =  30\n"
     ]
    },
    {
     "name": "stdout",
     "output_type": "stream",
     "text": [
      "(맞았습니다.) 1.963초 소요 : Score = 7695\n"
     ]
    },
    {
     "name": "stdin",
     "output_type": "stream",
     "text": [
      "7) 8 * 5 =  40\n"
     ]
    },
    {
     "name": "stdout",
     "output_type": "stream",
     "text": [
      "(맞았습니다.) 1.385초 소요 : Score = 9310\n"
     ]
    },
    {
     "name": "stdin",
     "output_type": "stream",
     "text": [
      "8) 9 * 2 =  18\n"
     ]
    },
    {
     "name": "stdout",
     "output_type": "stream",
     "text": [
      "(맞았습니다.) 1.553초 소요 : Score = 10756\n"
     ]
    },
    {
     "name": "stdin",
     "output_type": "stream",
     "text": [
      "9) 2 * 1 =  2\n"
     ]
    },
    {
     "name": "stdout",
     "output_type": "stream",
     "text": [
      "(맞았습니다.) 0.941초 소요 : Score = 12815\n"
     ]
    },
    {
     "name": "stdin",
     "output_type": "stream",
     "text": [
      "10) 6 * 8 =  48\n"
     ]
    },
    {
     "name": "stdout",
     "output_type": "stream",
     "text": [
      "(맞았습니다.) 1.899초 소요 : Score = 13916\n",
      "2 라운드 (최고 기록 갱신)\n",
      "2 라운드 최종점수 : 13916\n"
     ]
    }
   ],
   "source": [
    "import random\n",
    "import time\n",
    "print(\"구구단을 외자. 문제 출력 후 3초 이내에 입력하세요.\")\n",
    "score = 0\n",
    "trynum=0\n",
    "finalscore = []\n",
    "roundnum=0\n",
    "while(True):\n",
    "    while(trynum<10):\n",
    "        a = random.randint(1,9)\n",
    "        b = random.randint(1,9)\n",
    "        t1 = time.time()\n",
    "        q = int(input(\"%d) %d * %d = \" %(trynum+1,a,b)))\n",
    "        if q == a*b:\n",
    "            t2 = time.time()\n",
    "            elapsed_time = round(t2-t1,4)\n",
    "            if elapsed_time > 3:\n",
    "                print(\"(제한시간이 지났습니다) %0.3f초 소요 : Score = %d\"%(elapsed_time,score))\n",
    "                trynum+=1\n",
    "            else:\n",
    "                t2 = time.time()\n",
    "                elapsed_time = round(t2-t1,4)\n",
    "                score = score + (3000 - (elapsed_time * 1000))\n",
    "                print(\"(맞았습니다.) %0.3f초 소요 : Score = %d\"%(elapsed_time,score))\n",
    "                trynum+=1\n",
    "        else:\n",
    "            t2 = time.time()\n",
    "            elapsed_time = round(t2-t1,4)\n",
    "            print(\"(틀렸습니다) %0.3f초 소요 : Score = %d\"%(elapsed_time,score))\n",
    "            trynum+=1\n",
    "    finalscore.append(score)\n",
    "    roundnum+=1\n",
    "    maxscore=0\n",
    "    for i in finalscore:\n",
    "        if maxscore<i:\n",
    "            maxscore=i\n",
    "    for j in finalscore:\n",
    "        if maxscore == j:\n",
    "            print(\"%d 라운드 (최고 기록 갱신)\" %(roundnum))\n",
    "    print(\"%d 라운드 최종점수 : %d\"%(roundnum, score))\n",
    "    trynum=0\n",
    "    score = 0"
   ]
  },
  {
   "cell_type": "code",
   "execution_count": 2,
   "metadata": {},
   "outputs": [
    {
     "name": "stdin",
     "output_type": "stream",
     "text": [
      "달력?  2021 6\n"
     ]
    },
    {
     "name": "stdout",
     "output_type": "stream",
     "text": [
      "     June 2021\n",
      "Mo Tu We Th Fr Sa Su\n",
      "    1  2  3  4  5  6\n",
      " 7  8  9 10 11 12 13\n",
      "14 15 16 17 18 19 20\n",
      "21 22 23 24 25 26 27\n",
      "28 29 30\n",
      "\n"
     ]
    }
   ],
   "source": [
    "import calendar\n",
    "cal = input(\"달력? \").split()\n",
    "callist=[]\n",
    "for i in cal:\n",
    "    callist.append(int(i))\n",
    "y=callist[0]\n",
    "m=callist[1]\n",
    "print(calendar.month(y,m))"
   ]
  },
  {
   "cell_type": "code",
   "execution_count": 62,
   "metadata": {},
   "outputs": [
    {
     "name": "stdin",
     "output_type": "stream",
     "text": [
      "달력?  2021 4\n"
     ]
    },
    {
     "name": "stdout",
     "output_type": "stream",
     "text": [
      "  SUN   MON   TUE   WED   TUR   FRI   SAT \n",
      "                           1     2     3  \n",
      "   4     5     6     7     8     9    10  \n",
      "  11    12    13    14    15    16    17  \n",
      "  18    19    20    21    22    23    24  \n",
      "  25    26    27    28    29    30  \n"
     ]
    }
   ],
   "source": [
    "#과제제출\n",
    "weekdays = ['SUN','MON','TUE','WED','TUR','FRI','SAT']\n",
    "\n",
    "def leapyear(y):\n",
    "    if((y%4==0 and y%100!=0)or y%400==0):\n",
    "        return True\n",
    "    else:\n",
    "        return False\n",
    "    \n",
    "def daysOfMonth(y,m):\n",
    "    if(m in [4,6,9,11]):\n",
    "        numofDays = 30\n",
    "        return numofDays\n",
    "    elif(m==2):\n",
    "        if(leapyear(y)):\n",
    "            numOfDays = 29\n",
    "        else:\n",
    "            numOfDays=28\n",
    "    else:\n",
    "        numOfDays = 31\n",
    "    return numOfDays\n",
    "\n",
    "def dayOfTheWeek(y,m,d):\n",
    "    t1 = y-(14-m)//12\n",
    "    t2 = t1 +(t1//4)-(t1//100)+(t1//400)\n",
    "    t3 = m+12*((14-m)//12)-2\n",
    "    return(d+t2+(31*t3//12))%7\n",
    "\n",
    "def printCalendar(y,m):\n",
    "    numOfMonth = daysOfMonth(y,m)\n",
    "    day_of_week = dayOfTheWeek(y,m,1)\n",
    "    for day in weekdays:\n",
    "        print(' ',day,end=' ')\n",
    "    print()\n",
    "    for _ in range(day_of_week):\n",
    "        print('    ',end = '  ')\n",
    "    for day in range(1,numOfMonth+1):\n",
    "        if (day<10):\n",
    "            print('  ',day,end='  ')\n",
    "        else:\n",
    "            print(' ',day,end='  ')\n",
    "        if((day_of_week + day)%7==0):\n",
    "            print()\n",
    "    print()\n",
    "\n",
    "cal = input(\"달력? \").split()\n",
    "callist=[]\n",
    "for i in cal:\n",
    "    callist.append(int(i))\n",
    "y=callist[0]\n",
    "m=callist[1]\n",
    "printCalendar(y,m)"
   ]
  },
  {
   "cell_type": "code",
   "execution_count": null,
   "metadata": {},
   "outputs": [],
   "source": []
  }
 ],
 "metadata": {
  "kernelspec": {
   "display_name": "Python 3",
   "language": "python",
   "name": "python3"
  },
  "language_info": {
   "codemirror_mode": {
    "name": "ipython",
    "version": 3
   },
   "file_extension": ".py",
   "mimetype": "text/x-python",
   "name": "python",
   "nbconvert_exporter": "python",
   "pygments_lexer": "ipython3",
   "version": "3.7.6"
  }
 },
 "nbformat": 4,
 "nbformat_minor": 4
}
